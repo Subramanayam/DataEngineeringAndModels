{
 "cells": [
  {
   "cell_type": "code",
   "execution_count": 6,
   "metadata": {},
   "outputs": [],
   "source": [
    "import pandas as pd"
   ]
  },
  {
   "attachments": {},
   "cell_type": "markdown",
   "metadata": {},
   "source": [
    "<h3>IMPORTING JSON File</h3>"
   ]
  },
  {
   "cell_type": "code",
   "execution_count": 7,
   "metadata": {},
   "outputs": [
    {
     "name": "stderr",
     "output_type": "stream",
     "text": [
      "'pip' is not recognized as an internal or external command,\n",
      "operable program or batch file.\n"
     ]
    },
    {
     "ename": "ModuleNotFoundError",
     "evalue": "No module named 'requests'",
     "output_type": "error",
     "traceback": [
      "\u001b[1;31m---------------------------------------------------------------------------\u001b[0m",
      "\u001b[1;31mModuleNotFoundError\u001b[0m                       Traceback (most recent call last)",
      "Cell \u001b[1;32mIn[7], line 5\u001b[0m\n\u001b[0;32m      3\u001b[0m \u001b[39mexcept\u001b[39;00m:\n\u001b[0;32m      4\u001b[0m     \u001b[39mpass\u001b[39;00m\n\u001b[1;32m----> 5\u001b[0m \u001b[39mimport\u001b[39;00m \u001b[39mrequests\u001b[39;00m\n\u001b[0;32m      6\u001b[0m json_web_eq \u001b[39m=\u001b[39m \u001b[39m'\u001b[39m\u001b[39mhttps://earthquake.usgs.gov/earthquakes/feed/v1.0/summary/all_hour.geojson\u001b[39m\u001b[39m'\u001b[39m\n\u001b[0;32m      7\u001b[0m json_con \u001b[39m=\u001b[39m requests\u001b[39m.\u001b[39mget(json_web_eq)\u001b[39m.\u001b[39mcontent\n",
      "\u001b[1;31mModuleNotFoundError\u001b[0m: No module named 'requests'"
     ]
    }
   ],
   "source": [
    "try:\n",
    "    !pip install requests \n",
    "except:\n",
    "    pass\n",
    "import requests\n",
    "json_web_eq = 'https://earthquake.usgs.gov/earthquakes/feed/v1.0/summary/all_hour.geojson'\n",
    "json_con = requests.get(json_web_eq).content\n",
    "\n",
    "df_json_earthquake = pd.read_json(json_web_eq)\n",
    "df_json_earthquake.display()"
   ]
  },
  {
   "cell_type": "code",
   "execution_count": null,
   "metadata": {},
   "outputs": [],
   "source": []
  }
 ],
 "metadata": {
  "kernelspec": {
   "display_name": "Python 3",
   "language": "python",
   "name": "python3"
  },
  "language_info": {
   "codemirror_mode": {
    "name": "ipython",
    "version": 3
   },
   "file_extension": ".py",
   "mimetype": "text/x-python",
   "name": "python",
   "nbconvert_exporter": "python",
   "pygments_lexer": "ipython3",
   "version": "3.9.13"
  },
  "orig_nbformat": 4
 },
 "nbformat": 4,
 "nbformat_minor": 2
}
